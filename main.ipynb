{
 "cells": [
  {
   "cell_type": "markdown",
   "metadata": {},
   "source": [
    "### ME323 C - Porta dos Desesparados\n",
    "\n",
    "Fernanda Alencar de Barbosa - 2##### <br>\n",
    "Gustavo Nascimento Soares - 217530"
   ]
  },
  {
   "cell_type": "code",
   "execution_count": 82,
   "metadata": {},
   "outputs": [],
   "source": [
    "import random as rd\n",
    "import matplotlib.pyplot as plt"
   ]
  },
  {
   "cell_type": "code",
   "execution_count": 83,
   "metadata": {},
   "outputs": [],
   "source": [
    "N = 100000\n",
    "nDoors = 3\n",
    "\n",
    "def finalOption(a, b):\n",
    "    options = [i+1 for i in range(nDoors)]\n",
    "    options.remove(a)\n",
    "    options.remove(b)\n",
    "    return options[0]\n",
    "    \n",
    "rightAnswer = [rd.randint(1, nDoors) for i in range(N)]\n",
    "guess = {\n",
    "    'NS': [rd.randint(1, nDoors) for i in range(N)],\n",
    "    'S': [],\n",
    "    } # NS == No Switch, S == Switch\n",
    "reveal = [] # number of revealed door\n",
    "\n",
    "for i in range(N):\n",
    "    if rightAnswer[i] == guess['NS'][i]:\n",
    "        options = [i+1 for i in range(nDoors)]\n",
    "        options.remove(rightAnswer[i])\n",
    "        reveal.append(rd.choice(options))\n",
    "    else:\n",
    "        reveal.append(finalOption(guess['NS'][i], rightAnswer[i]))\n",
    "        \n",
    "\n",
    "for i in range(N):\n",
    "    guess['S'].append(finalOption(guess['NS'][i], reveal[i]))"
   ]
  },
  {
   "cell_type": "code",
   "execution_count": 84,
   "metadata": {},
   "outputs": [],
   "source": [
    "result = {\n",
    "    'NS': [True if rightAnswer[i] == guess['NS'][i] else False for i in range(N)],\n",
    "    'S': [True if rightAnswer[i] == guess['S'][i] else False for i in range(N)],\n",
    "}\n",
    "\n",
    "pct = {\n",
    "    'NS': result['NS'].count(True)/N*100,\n",
    "    'S': result['S'].count(True)/N*100,\t\n",
    "}"
   ]
  },
  {
   "cell_type": "code",
   "execution_count": 85,
   "metadata": {},
   "outputs": [],
   "source": [
    "accF = {\n",
    "    'NS': [],\n",
    "    'S': [],\n",
    "}\n",
    "for key in result.keys():\n",
    "    count = 0\n",
    "    for i in range(N):\n",
    "        if result[key][i]:\n",
    "            count += 1\n",
    "        accF[key].append(count/(i+1))"
   ]
  },
  {
   "cell_type": "code",
   "execution_count": 86,
   "metadata": {},
   "outputs": [
    {
     "name": "stdout",
     "output_type": "stream",
     "text": [
      "No Switch: 33.262%\n",
      "Switch: 66.738%\n"
     ]
    },
    {
     "data": {
      "image/png": "[encoded data removed]",
      "text/plain": [
       "<Figure size 432x288 with 1 Axes>"
      ]
     },
     "metadata": {
      "needs_background": "light"
     },
     "output_type": "display_data"
    }
   ],
   "source": [
    "print(\"No Switch: {0:.3f}%\\nSwitch: {1:.3f}%\".format(pct['NS'], pct['S']))\n",
    "plt.plot(range(1, N+1), accF['NS'])\n",
    "plt.plot(range(1, N+1), accF['S'])\n",
    "plt.show()"
   ]
  }
 ],
 "metadata": {
  "kernelspec": {
   "display_name": "Python 3",
   "language": "python",
   "name": "python3"
  },
  "language_info": {
   "codemirror_mode": {
    "name": "ipython",
    "version": 3
   },
   "file_extension": ".py",
   "mimetype": "text/x-python",
   "name": "python",
   "nbconvert_exporter": "python",
   "pygments_lexer": "ipython3",
   "version": "3.7.1"
  }
 },
 "nbformat": 4,
 "nbformat_minor": 2
}
