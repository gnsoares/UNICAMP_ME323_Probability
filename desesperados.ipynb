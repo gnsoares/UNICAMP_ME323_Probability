{
 "cells": [
  {
   "cell_type": "markdown",
   "metadata": {},
   "source": [
    "## ME323 C - Porta dos Desesparados\n",
    "\n",
    "Fernanda de Alencar Barbosa - 215825 <br>\n",
    "Gustavo Nascimento Soares - 217530"
   ]
  },
  {
   "cell_type": "code",
   "execution_count": 34,
   "metadata": {},
   "outputs": [],
   "source": [
    "import random as rd\n",
    "import matplotlib.pyplot as plt"
   ]
  },
  {
   "cell_type": "markdown",
   "metadata": {},
   "source": [
    "### Stablishment of the problem's variables ans arrays"
   ]
  },
  {
   "cell_type": "code",
   "execution_count": 35,
   "metadata": {},
   "outputs": [],
   "source": [
    "# constants of the experiment\n",
    "N = 5000\n",
    "nDoors = 3\n",
    "\n",
    "# auxiliar function to find the last option to reveal of switch doors\n",
    "def finalOption(a, b):\n",
    "    options = [i+1 for i in range(nDoors)]\n",
    "    options.remove(a)\n",
    "    options.remove(b)\n",
    "    return options[0]\n",
    "    \n",
    "rightAnswer = [rd.randint(1, nDoors) for i in range(N)] # number of the right door\n",
    "guess = { # NS == No Switch, S == Switch\n",
    "    'NS': [rd.randint(1, nDoors) for i in range(N)],\n",
    "    'S': [],\n",
    "    }\n",
    "reveal = [] # number of revealed door\n",
    "\n",
    "for i in range(N):\n",
    "    # if the contestant is right, reveal either of the other doors\n",
    "    # else, reveal the other wrong door\n",
    "    if rightAnswer[i] == guess['NS'][i]:\n",
    "        options = [i+1 for i in range(nDoors)]\n",
    "        options.remove(rightAnswer[i])\n",
    "        reveal.append(rd.choice(options))\n",
    "    else:\n",
    "        reveal.append(finalOption(guess['NS'][i], rightAnswer[i]))\n",
    "\n",
    "# the only option to switch is to the door not revealed\n",
    "for i in range(N):\n",
    "    guess['S'].append(finalOption(guess['NS'][i], reveal[i]))"
   ]
  },
  {
   "cell_type": "markdown",
   "metadata": {},
   "source": [
    "### Evaluation of the experiments"
   ]
  },
  {
   "cell_type": "code",
   "execution_count": null,
   "metadata": {},
   "outputs": [],
   "source": [
    "result = {\n",
    "    'NS': [True if rightAnswer[i] == guess['NS'][i] else False for i in range(N)],\n",
    "    'S': [True if rightAnswer[i] == guess['S'][i] else False for i in range(N)],\n",
    "}\n",
    "\n",
    "pct = {\n",
    "    'NS': result['NS'].count(True)/N*100,\n",
    "    'S': result['S'].count(True)/N*100,\t\n",
    "}"
   ]
  },
  {
   "cell_type": "markdown",
   "metadata": {},
   "source": [
    "### Calculation of the frequency of right answers"
   ]
  },
  {
   "cell_type": "code",
   "execution_count": 41,
   "metadata": {},
   "outputs": [],
   "source": [
    "Freq = { # frequency of right answers\n",
    "    'NS': [],\n",
    "    'S': [],\n",
    "}\n",
    "for key in result.keys():\n",
    "    count = 0\n",
    "    for i in range(N):\n",
    "        if result[key][i]:\n",
    "            count += 1\n",
    "        Freq[key].append(count/(i+1))"
   ]
  },
  {
   "cell_type": "markdown",
   "metadata": {},
   "source": [
    "### Plotting and visualization of the result"
   ]
  },
  {
   "cell_type": "code",
   "execution_count": 43,
   "metadata": {},
   "outputs": [
    {
     "data": {
      "image/png": "[encoded data removed]",
      "text/plain": [
       "<Figure size 432x288 with 1 Axes>"
      ]
     },
     "metadata": {
      "needs_background": "light"
     },
     "output_type": "display_data"
    },
    {
     "name": "stdout",
     "output_type": "stream",
     "text": [
      "Final frequency:\n",
      "\tNo Switch: 32.460%\n",
      "\tSwitch: 67.540%\n"
     ]
    }
   ],
   "source": [
    "fig = plt.figure()\n",
    "x = range(1, N+1)\n",
    "plt.plot(x, [1/3]*N, 'r', linestyle='--', label='Theoretical Expectancy')\n",
    "plt.plot(x, [2/3]*N, 'r', linestyle='--')\n",
    "plt.plot(x, Freq['S'], 'c', label='Switch')\n",
    "plt.plot(x, Freq['NS'], 'y', label='No Switch')\n",
    "fig.suptitle('Frequency of Right Answers in the Monty Hall Paradox Experiment', fontsize=14)\n",
    "plt.legend()\n",
    "plt.show()\n",
    "print(\"Final frequency:\\n\\tNo Switch: {0:.3f}%\\n\\tSwitch: {1:.3f}%\".format(pct['NS'], pct['S']))"
   ]
  }
 ],
 "metadata": {
  "kernelspec": {
   "display_name": "Python 3",
   "language": "python",
   "name": "python3"
  },
  "language_info": {
   "codemirror_mode": {
    "name": "ipython",
    "version": 3
   },
   "file_extension": ".py",
   "mimetype": "text/x-python",
   "name": "python",
   "nbconvert_exporter": "python",
   "pygments_lexer": "ipython3",
   "version": "3.7.1"
  }
 },
 "nbformat": 4,
 "nbformat_minor": 2
}
